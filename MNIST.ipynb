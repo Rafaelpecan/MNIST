{
  "cells": [
    {
      "cell_type": "markdown",
      "metadata": {
        "id": "view-in-github",
        "colab_type": "text"
      },
      "source": [
        "<a href=\"https://colab.research.google.com/github/Rafaelpecan/MNIST/blob/main/MNIST.ipynb\" target=\"_parent\"><img src=\"https://colab.research.google.com/assets/colab-badge.svg\" alt=\"Open In Colab\"/></a>"
      ]
    },
    {
      "cell_type": "markdown",
      "source": [
        "### Usando modelo convencional (Dense):"
      ],
      "metadata": {
        "id": "AkxMJuCMwzGa"
      }
    },
    {
      "cell_type": "code",
      "execution_count": 25,
      "metadata": {
        "id": "WduRLadj5NTK"
      },
      "outputs": [],
      "source": [
        "import keras\n",
        "from keras.models import Sequential, Model,load_model\n",
        "from keras import backend as K\n",
        "from keras.layers.core import Dense, Activation\n",
        "from keras.metrics import categorical_crossentropy\n",
        "from keras.preprocessing.image import ImageDataGenerator\n",
        "from keras.preprocessing import image\n",
        "from keras.models import Model\n",
        "from keras.applications import imagenet_utils\n",
        "from keras.layers import Dense,GlobalAveragePooling2D\n",
        "from keras.applications.mobilenet import MobileNet\n",
        "from keras.applications.mobilenet import preprocess_input\n",
        "from keras.applications.vgg16 import VGG16\n",
        "from keras.layers.convolutional import Conv2D\n",
        "from keras.layers.convolutional import MaxPooling2D\n",
        "from keras import backend as K\n",
        "import numpy as np\n",
        "from IPython.display import Image\n",
        "from keras.layers.core import Flatten, Dense, Dropout\n",
        "from sklearn.utils import shuffle\n",
        "import matplotlib.pylab as plt\n",
        "from sklearn.preprocessing import LabelEncoder\n",
        "from tensorflow.keras.utils import to_categorical\n",
        "from sklearn.model_selection import train_test_split\n",
        "from sklearn.datasets import fetch_openml\n",
        "# Visualização\n",
        "import seaborn as sns\n",
        "import matplotlib.pyplot as plt\n",
        "from sklearn.metrics import accuracy_score\n",
        "import pandas as pd"
      ]
    },
    {
      "cell_type": "code",
      "execution_count": 2,
      "metadata": {
        "id": "MyMNqc2P5Vq6"
      },
      "outputs": [],
      "source": [
        "mnist = fetch_openml('mnist_784', cache=False)"
      ]
    },
    {
      "cell_type": "code",
      "execution_count": 3,
      "metadata": {
        "colab": {
          "base_uri": "https://localhost:8080/"
        },
        "id": "rdNgqx6DSYAf",
        "outputId": "470b7c0d-2fc7-42d8-f3a9-02e058f32503"
      },
      "outputs": [
        {
          "output_type": "execute_result",
          "data": {
            "text/plain": [
              "(70000, 784)"
            ]
          },
          "metadata": {},
          "execution_count": 3
        }
      ],
      "source": [
        "mnist.data.shape"
      ]
    },
    {
      "cell_type": "code",
      "execution_count": 4,
      "metadata": {
        "id": "3L0zZf7rTPML"
      },
      "outputs": [],
      "source": [
        "X = mnist.data.astype('float32').values\n",
        "y = mnist.target.astype('int64').values"
      ]
    },
    {
      "cell_type": "code",
      "execution_count": 5,
      "metadata": {
        "id": "D64CoWxqURS_"
      },
      "outputs": [],
      "source": [
        "X /= 255.0"
      ]
    },
    {
      "cell_type": "code",
      "execution_count": 6,
      "metadata": {
        "id": "R-KR0vUYXtet"
      },
      "outputs": [],
      "source": [
        "X_train, X_test, y_train, y_test = train_test_split(X, y, test_size=0.25, random_state=42)"
      ]
    },
    {
      "cell_type": "code",
      "execution_count": 7,
      "metadata": {
        "colab": {
          "base_uri": "https://localhost:8080/"
        },
        "id": "YltxVqrZXxGQ",
        "outputId": "fb3d4ede-56a2-4f1b-b4ae-ad58ed793312"
      },
      "outputs": [
        {
          "output_type": "execute_result",
          "data": {
            "text/plain": [
              "((52500, 784), (52500,))"
            ]
          },
          "metadata": {},
          "execution_count": 7
        }
      ],
      "source": [
        "X_train.shape, y_train.shape"
      ]
    },
    {
      "cell_type": "code",
      "execution_count": 22,
      "metadata": {
        "id": "uNUMG-cmgk-M"
      },
      "outputs": [],
      "source": [
        "le = LabelEncoder()\n",
        "y_train = le.fit_transform(y_train)\n",
        "y_train = to_categorical(y_train, 10)\n",
        "y_test = le.fit_transform(y_test)\n",
        "y_test = to_categorical(y_test, 10)"
      ]
    },
    {
      "cell_type": "code",
      "execution_count": 9,
      "metadata": {
        "colab": {
          "base_uri": "https://localhost:8080/"
        },
        "id": "3_D-brWOi_Gs",
        "outputId": "c9f77058-5d99-4486-e366-1019c63560e4"
      },
      "outputs": [
        {
          "output_type": "execute_result",
          "data": {
            "text/plain": [
              "((52500, 10), (17500, 10))"
            ]
          },
          "metadata": {},
          "execution_count": 9
        }
      ],
      "source": [
        "y_train.shape, y_test.shape"
      ]
    },
    {
      "cell_type": "code",
      "source": [
        "# criando a Rede\n",
        "\n",
        "model = Sequential()\n",
        "model.add(Dense(512, input_shape=(784,), activation=\"relu\"))\n",
        "model.add(Dense(12, activation=\"relu\"))\n",
        "model.add(Dropout(0.2))\n",
        "model.add(Dense(10, activation=\"softmax\"))\n",
        "model.compile(optimizer='adam', loss=\"categorical_crossentropy\", metrics=[\"accuracy\"])\n",
        "H = model.fit(X_train, y_train, batch_size=30, epochs=20, verbose=2, validation_data=(X_test, y_test))"
      ],
      "metadata": {
        "colab": {
          "base_uri": "https://localhost:8080/"
        },
        "id": "Gb_mgx5iv6Uz",
        "outputId": "9905d822-da19-49dc-8c6c-deddaf09d5a3"
      },
      "execution_count": 10,
      "outputs": [
        {
          "output_type": "stream",
          "name": "stdout",
          "text": [
            "Epoch 1/20\n",
            "1750/1750 - 9s - loss: 0.4595 - accuracy: 0.8521 - val_loss: 0.1459 - val_accuracy: 0.9611 - 9s/epoch - 5ms/step\n",
            "Epoch 2/20\n",
            "1750/1750 - 8s - loss: 0.2290 - accuracy: 0.9254 - val_loss: 0.1210 - val_accuracy: 0.9645 - 8s/epoch - 4ms/step\n",
            "Epoch 3/20\n",
            "1750/1750 - 8s - loss: 0.1776 - accuracy: 0.9410 - val_loss: 0.1084 - val_accuracy: 0.9707 - 8s/epoch - 4ms/step\n",
            "Epoch 4/20\n",
            "1750/1750 - 10s - loss: 0.1495 - accuracy: 0.9503 - val_loss: 0.0959 - val_accuracy: 0.9745 - 10s/epoch - 6ms/step\n",
            "Epoch 5/20\n",
            "1750/1750 - 8s - loss: 0.1237 - accuracy: 0.9583 - val_loss: 0.0980 - val_accuracy: 0.9757 - 8s/epoch - 5ms/step\n",
            "Epoch 6/20\n",
            "1750/1750 - 9s - loss: 0.1129 - accuracy: 0.9611 - val_loss: 0.1015 - val_accuracy: 0.9755 - 9s/epoch - 5ms/step\n",
            "Epoch 7/20\n",
            "1750/1750 - 12s - loss: 0.0949 - accuracy: 0.9676 - val_loss: 0.1078 - val_accuracy: 0.9755 - 12s/epoch - 7ms/step\n",
            "Epoch 8/20\n",
            "1750/1750 - 11s - loss: 0.0803 - accuracy: 0.9730 - val_loss: 0.1101 - val_accuracy: 0.9775 - 11s/epoch - 7ms/step\n",
            "Epoch 9/20\n",
            "1750/1750 - 10s - loss: 0.0679 - accuracy: 0.9767 - val_loss: 0.1160 - val_accuracy: 0.9762 - 10s/epoch - 6ms/step\n",
            "Epoch 10/20\n",
            "1750/1750 - 14s - loss: 0.0663 - accuracy: 0.9786 - val_loss: 0.1290 - val_accuracy: 0.9763 - 14s/epoch - 8ms/step\n",
            "Epoch 11/20\n",
            "1750/1750 - 8s - loss: 0.0615 - accuracy: 0.9796 - val_loss: 0.1457 - val_accuracy: 0.9740 - 8s/epoch - 5ms/step\n",
            "Epoch 12/20\n",
            "1750/1750 - 8s - loss: 0.0590 - accuracy: 0.9805 - val_loss: 0.1245 - val_accuracy: 0.9776 - 8s/epoch - 5ms/step\n",
            "Epoch 13/20\n",
            "1750/1750 - 8s - loss: 0.0569 - accuracy: 0.9810 - val_loss: 0.1365 - val_accuracy: 0.9778 - 8s/epoch - 5ms/step\n",
            "Epoch 14/20\n",
            "1750/1750 - 8s - loss: 0.0502 - accuracy: 0.9830 - val_loss: 0.1453 - val_accuracy: 0.9769 - 8s/epoch - 5ms/step\n",
            "Epoch 15/20\n",
            "1750/1750 - 8s - loss: 0.0516 - accuracy: 0.9827 - val_loss: 0.1495 - val_accuracy: 0.9773 - 8s/epoch - 5ms/step\n",
            "Epoch 16/20\n",
            "1750/1750 - 8s - loss: 0.0492 - accuracy: 0.9837 - val_loss: 0.1584 - val_accuracy: 0.9767 - 8s/epoch - 4ms/step\n",
            "Epoch 17/20\n",
            "1750/1750 - 8s - loss: 0.0504 - accuracy: 0.9836 - val_loss: 0.1438 - val_accuracy: 0.9787 - 8s/epoch - 4ms/step\n",
            "Epoch 18/20\n",
            "1750/1750 - 9s - loss: 0.0461 - accuracy: 0.9849 - val_loss: 0.1578 - val_accuracy: 0.9774 - 9s/epoch - 5ms/step\n",
            "Epoch 19/20\n",
            "1750/1750 - 9s - loss: 0.0433 - accuracy: 0.9856 - val_loss: 0.1609 - val_accuracy: 0.9777 - 9s/epoch - 5ms/step\n",
            "Epoch 20/20\n",
            "1750/1750 - 8s - loss: 0.0425 - accuracy: 0.9854 - val_loss: 0.1730 - val_accuracy: 0.9785 - 8s/epoch - 5ms/step\n"
          ]
        }
      ]
    },
    {
      "cell_type": "code",
      "source": [
        "plt.plot(H.history['accuracy'])\n",
        "plt.plot(H.history['val_accuracy'])"
      ],
      "metadata": {
        "colab": {
          "base_uri": "https://localhost:8080/",
          "height": 282
        },
        "id": "ep17P99IzkNj",
        "outputId": "b6db7216-b186-4c58-915f-3686263a0e9b"
      },
      "execution_count": 11,
      "outputs": [
        {
          "output_type": "execute_result",
          "data": {
            "text/plain": [
              "[<matplotlib.lines.Line2D at 0x7f110917f910>]"
            ]
          },
          "metadata": {},
          "execution_count": 11
        },
        {
          "output_type": "display_data",
          "data": {
            "text/plain": [
              "<Figure size 432x288 with 1 Axes>"
            ],
            "image/png": "[encoded data removed]"
          },
          "metadata": {
            "needs_background": "light"
          }
        }
      ]
    },
    {
      "cell_type": "code",
      "source": [
        "Y_pred = model.predict(X_test)"
      ],
      "metadata": {
        "colab": {
          "base_uri": "https://localhost:8080/"
        },
        "id": "jGks8mjXz0Db",
        "outputId": "c74f487e-2907-4cd9-da06-abebe6b96352"
      },
      "execution_count": 12,
      "outputs": [
        {
          "output_type": "stream",
          "name": "stdout",
          "text": [
            "547/547 [==============================] - 1s 2ms/step\n"
          ]
        }
      ]
    },
    {
      "cell_type": "code",
      "source": [
        "Y_pred.argmax(axis=1)\n",
        "y_test.argmax(axis=1)"
      ],
      "metadata": {
        "colab": {
          "base_uri": "https://localhost:8080/"
        },
        "id": "l52kp5O9hM-u",
        "outputId": "96159446-c652-4706-df6c-9cfb71156bfa"
      },
      "execution_count": 13,
      "outputs": [
        {
          "output_type": "execute_result",
          "data": {
            "text/plain": [
              "array([8, 4, 8, ..., 5, 8, 2])"
            ]
          },
          "metadata": {},
          "execution_count": 13
        }
      ]
    },
    {
      "cell_type": "code",
      "source": [
        "plt.imshow(X_test[15].reshape(28, 28), interpolation='nearest')\n",
        "plt.show()\n",
        "Y_pred[15].argmax()"
      ],
      "metadata": {
        "colab": {
          "base_uri": "https://localhost:8080/",
          "height": 282
        },
        "id": "bRGJycBmbef2",
        "outputId": "12aabf17-4d2e-4b93-f48e-31e699a4300f"
      },
      "execution_count": 14,
      "outputs": [
        {
          "output_type": "display_data",
          "data": {
            "text/plain": [
              "<Figure size 432x288 with 1 Axes>"
            ],
            "image/png": "[encoded data removed]"
          },
          "metadata": {
            "needs_background": "light"
          }
        },
        {
          "output_type": "execute_result",
          "data": {
            "text/plain": [
              "5"
            ]
          },
          "metadata": {},
          "execution_count": 14
        }
      ]
    },
    {
      "cell_type": "code",
      "source": [
        "data = {'y_Actual':    y_test.argmax(axis=1),\n",
        "        'y_Predicted': Y_pred.argmax(axis=1)\n",
        "        }\n",
        "\n",
        "conf = pd.DataFrame(data, columns=['y_Actual','y_Predicted'])\n",
        "\n",
        "confusion_matrix = pd.crosstab(conf['y_Actual'], conf['y_Predicted'], rownames=['Actual'], colnames=['Predicted'])\n",
        "\n",
        "sns.heatmap(confusion_matrix, annot=True)\n",
        "plt.show()"
      ],
      "metadata": {
        "colab": {
          "base_uri": "https://localhost:8080/",
          "height": 279
        },
        "id": "8_OjuastzwqC",
        "outputId": "71b335da-b6ce-4d58-89a1-cd9670731a04"
      },
      "execution_count": 15,
      "outputs": [
        {
          "output_type": "display_data",
          "data": {
            "text/plain": [
              "<Figure size 432x288 with 2 Axes>"
            ],
            "image/png": "[encoded data removed]"
          },
          "metadata": {
            "needs_background": "light"
          }
        }
      ]
    },
    {
      "cell_type": "code",
      "source": [
        "data"
      ],
      "metadata": {
        "colab": {
          "base_uri": "https://localhost:8080/"
        },
        "id": "82wtff31ez2K",
        "outputId": "13198fc5-3b9d-4db7-dba7-49a67e3d3266"
      },
      "execution_count": 16,
      "outputs": [
        {
          "output_type": "execute_result",
          "data": {
            "text/plain": [
              "{'y_Actual': array([8, 4, 8, ..., 5, 8, 2]),\n",
              " 'y_Predicted': array([8, 4, 8, ..., 5, 8, 2])}"
            ]
          },
          "metadata": {},
          "execution_count": 16
        }
      ]
    },
    {
      "cell_type": "markdown",
      "source": [
        "### *Usando* convnets:\n"
      ],
      "metadata": {
        "id": "kq6J5_v7xBZ7"
      }
    },
    {
      "cell_type": "code",
      "source": [
        "Xc = X.reshape(-1, 28, 28)"
      ],
      "metadata": {
        "id": "xQiXHvgrv5FF"
      },
      "execution_count": 18,
      "outputs": []
    },
    {
      "cell_type": "code",
      "source": [
        "Xc.shape"
      ],
      "metadata": {
        "id": "qzW-uMSIzC87",
        "colab": {
          "base_uri": "https://localhost:8080/"
        },
        "outputId": "83c4a1e8-5a36-428f-fb4f-d91668724512"
      },
      "execution_count": 19,
      "outputs": [
        {
          "output_type": "execute_result",
          "data": {
            "text/plain": [
              "(70000, 28, 28)"
            ]
          },
          "metadata": {},
          "execution_count": 19
        }
      ]
    },
    {
      "cell_type": "code",
      "source": [
        "X_train, X_test, y_train, y_test = train_test_split(Xc, y, test_size=0.25, random_state=42)"
      ],
      "metadata": {
        "id": "t6XkVwdozP8E"
      },
      "execution_count": 20,
      "outputs": []
    },
    {
      "cell_type": "code",
      "source": [
        "le = LabelEncoder()\n",
        "y_train = le.fit_transform(y_train)\n",
        "y_train = to_categorical(y_train, 10)\n",
        "y_test = le.fit_transform(y_test)\n",
        "y_test = to_categorical(y_test, 10)"
      ],
      "metadata": {
        "id": "1J0zmalvFHTx"
      },
      "execution_count": null,
      "outputs": []
    },
    {
      "cell_type": "code",
      "source": [
        "X_train.shape, X_test.shape"
      ],
      "metadata": {
        "colab": {
          "base_uri": "https://localhost:8080/"
        },
        "id": "jXWOb1_YEvfz",
        "outputId": "ab85f061-a0f0-4818-c667-88cb9f0bc3cd"
      },
      "execution_count": 37,
      "outputs": [
        {
          "output_type": "execute_result",
          "data": {
            "text/plain": [
              "((52500, 28, 28), (17500, 28, 28))"
            ]
          },
          "metadata": {},
          "execution_count": 37
        }
      ]
    },
    {
      "cell_type": "code",
      "source": [
        "#primeira camada conv\n",
        "\n",
        "modelConv = Sequential()\n",
        "modelConv.add(Conv2D(20, 5, padding=\"same\", input_shape=(28,28, 1)))\n",
        "modelConv.add(Activation(\"relu\"))\n",
        "modelConv.add(MaxPooling2D(pool_size=(2, 2), strides=(2, 2)))"
      ],
      "metadata": {
        "id": "Cbj2US-rC92o"
      },
      "execution_count": 28,
      "outputs": []
    },
    {
      "cell_type": "code",
      "source": [
        "#segunda camada conv\n",
        "\n",
        "modelConv.add(Conv2D(50, 5, padding=\"same\"))\n",
        "modelConv.add(Activation(\"relu\"))\n",
        "modelConv.add(MaxPooling2D(pool_size=(2, 2), strides=(2, 2)))"
      ],
      "metadata": {
        "id": "FLFiyURpGrMr"
      },
      "execution_count": 31,
      "outputs": []
    },
    {
      "cell_type": "code",
      "source": [
        "#camada dense\n",
        "\n",
        "modelConv.add(Flatten())\n",
        "modelConv.add(Dense(512, activation=\"relu\"))\n",
        "modelConv.add(Dense(12, activation=\"relu\"))\n",
        "modelConv.add(Dropout(0.2))\n",
        "modelConv.add(Dense(10, activation=\"softmax\"))"
      ],
      "metadata": {
        "id": "_wKe9m08WhF-"
      },
      "execution_count": 33,
      "outputs": []
    },
    {
      "cell_type": "code",
      "source": [
        "modelConv.summary()"
      ],
      "metadata": {
        "id": "wJp2YO93a30P"
      },
      "execution_count": null,
      "outputs": []
    },
    {
      "cell_type": "code",
      "source": [
        "modelConv.compile(optimizer='adam', loss=\"categorical_crossentropy\", metrics=[\"accuracy\"])\n",
        "Hconv = modelConv.fit(X_train, y_train, batch_size=30, epochs=20, verbose=2, validation_data=(X_test, y_test))"
      ],
      "metadata": {
        "colab": {
          "base_uri": "https://localhost:8080/"
        },
        "id": "hcq8xAjwbHVu",
        "outputId": "b100fde4-8e67-44ff-8727-d739c5cc0894"
      },
      "execution_count": 39,
      "outputs": [
        {
          "output_type": "stream",
          "name": "stdout",
          "text": [
            "Epoch 1/20\n",
            "1750/1750 - 130s - loss: 0.3898 - accuracy: 0.8640 - val_loss: 0.0737 - val_accuracy: 0.9823 - 130s/epoch - 74ms/step\n",
            "Epoch 2/20\n",
            "1750/1750 - 106s - loss: 0.1402 - accuracy: 0.9573 - val_loss: 0.0572 - val_accuracy: 0.9843 - 106s/epoch - 60ms/step\n",
            "Epoch 3/20\n",
            "1750/1750 - 105s - loss: 0.1057 - accuracy: 0.9651 - val_loss: 0.0473 - val_accuracy: 0.9887 - 105s/epoch - 60ms/step\n",
            "Epoch 4/20\n",
            "1750/1750 - 110s - loss: 0.0912 - accuracy: 0.9694 - val_loss: 0.0660 - val_accuracy: 0.9864 - 110s/epoch - 63ms/step\n",
            "Epoch 5/20\n",
            "1750/1750 - 106s - loss: 0.0807 - accuracy: 0.9739 - val_loss: 0.0590 - val_accuracy: 0.9890 - 106s/epoch - 61ms/step\n",
            "Epoch 6/20\n",
            "1750/1750 - 103s - loss: 0.0587 - accuracy: 0.9817 - val_loss: 0.0532 - val_accuracy: 0.9904 - 103s/epoch - 59ms/step\n",
            "Epoch 7/20\n",
            "1750/1750 - 105s - loss: 0.0554 - accuracy: 0.9837 - val_loss: 0.0464 - val_accuracy: 0.9896 - 105s/epoch - 60ms/step\n",
            "Epoch 8/20\n",
            "1750/1750 - 103s - loss: 0.0480 - accuracy: 0.9858 - val_loss: 0.0512 - val_accuracy: 0.9889 - 103s/epoch - 59ms/step\n",
            "Epoch 9/20\n",
            "1750/1750 - 104s - loss: 0.0448 - accuracy: 0.9867 - val_loss: 0.0609 - val_accuracy: 0.9873 - 104s/epoch - 60ms/step\n",
            "Epoch 10/20\n",
            "1750/1750 - 104s - loss: 0.0436 - accuracy: 0.9873 - val_loss: 0.0858 - val_accuracy: 0.9874 - 104s/epoch - 60ms/step\n",
            "Epoch 11/20\n",
            "1750/1750 - 103s - loss: 0.0415 - accuracy: 0.9874 - val_loss: 0.0533 - val_accuracy: 0.9906 - 103s/epoch - 59ms/step\n",
            "Epoch 12/20\n",
            "1750/1750 - 105s - loss: 0.0399 - accuracy: 0.9884 - val_loss: 0.0638 - val_accuracy: 0.9901 - 105s/epoch - 60ms/step\n",
            "Epoch 13/20\n",
            "1750/1750 - 105s - loss: 0.0352 - accuracy: 0.9889 - val_loss: 0.0589 - val_accuracy: 0.9913 - 105s/epoch - 60ms/step\n",
            "Epoch 14/20\n",
            "1750/1750 - 103s - loss: 0.0385 - accuracy: 0.9891 - val_loss: 0.0600 - val_accuracy: 0.9905 - 103s/epoch - 59ms/step\n",
            "Epoch 15/20\n",
            "1750/1750 - 105s - loss: 0.0344 - accuracy: 0.9899 - val_loss: 0.0662 - val_accuracy: 0.9913 - 105s/epoch - 60ms/step\n",
            "Epoch 16/20\n",
            "1750/1750 - 103s - loss: 0.0358 - accuracy: 0.9897 - val_loss: 0.0839 - val_accuracy: 0.9882 - 103s/epoch - 59ms/step\n",
            "Epoch 17/20\n",
            "1750/1750 - 105s - loss: 0.0310 - accuracy: 0.9911 - val_loss: 0.0736 - val_accuracy: 0.9907 - 105s/epoch - 60ms/step\n",
            "Epoch 18/20\n",
            "1750/1750 - 107s - loss: 0.0282 - accuracy: 0.9917 - val_loss: 0.0863 - val_accuracy: 0.9907 - 107s/epoch - 61ms/step\n",
            "Epoch 19/20\n",
            "1750/1750 - 114s - loss: 0.0303 - accuracy: 0.9907 - val_loss: 0.0931 - val_accuracy: 0.9891 - 114s/epoch - 65ms/step\n",
            "Epoch 20/20\n",
            "1750/1750 - 151s - loss: 0.0301 - accuracy: 0.9912 - val_loss: 0.0928 - val_accuracy: 0.9898 - 151s/epoch - 87ms/step\n"
          ]
        }
      ]
    },
    {
      "cell_type": "code",
      "source": [
        "plt.plot(Hconv.history['accuracy'])\n",
        "plt.plot(Hconv.history['val_accuracy'])"
      ],
      "metadata": {
        "colab": {
          "base_uri": "https://localhost:8080/",
          "height": 282
        },
        "id": "IfMQirdrk7bh",
        "outputId": "9b27291d-53b0-49d4-d160-67d60d88733f"
      },
      "execution_count": 42,
      "outputs": [
        {
          "output_type": "execute_result",
          "data": {
            "text/plain": [
              "[<matplotlib.lines.Line2D at 0x7f116c0532d0>]"
            ]
          },
          "metadata": {},
          "execution_count": 42
        },
        {
          "output_type": "display_data",
          "data": {
            "text/plain": [
              "<Figure size 432x288 with 1 Axes>"
            ],
            "image/png": "[encoded data removed]"
          },
          "metadata": {
            "needs_background": "light"
          }
        }
      ]
    },
    {
      "cell_type": "code",
      "source": [
        "aug = ImageDataGenerator(\n",
        "rotation_range=20,\n",
        "zoom_range=0.15,\n",
        "width_shift_range=0.2,\n",
        "height_shift_range=0.2,\n",
        "shear_range=0.15,\n",
        "horizontal_flip=True,\n",
        "fill_mode=\"nearest\")"
      ],
      "metadata": {
        "id": "w3FNdIbyjwMo"
      },
      "execution_count": 43,
      "outputs": []
    },
    {
      "cell_type": "code",
      "source": [
        "X_train = X_train.reshape(-1,28,28,1)"
      ],
      "metadata": {
        "id": "a7OgEDysmjly"
      },
      "execution_count": 45,
      "outputs": []
    },
    {
      "cell_type": "code",
      "source": [
        "X_train.shape"
      ],
      "metadata": {
        "colab": {
          "base_uri": "https://localhost:8080/"
        },
        "id": "ylR1nsr3mqVJ",
        "outputId": "5f13715f-fb73-4e91-dd56-8bedeb9747a9"
      },
      "execution_count": 47,
      "outputs": [
        {
          "output_type": "execute_result",
          "data": {
            "text/plain": [
              "(52500, 28, 28, 1)"
            ]
          },
          "metadata": {},
          "execution_count": 47
        }
      ]
    },
    {
      "cell_type": "code",
      "source": [
        "H3 = modelConv.fit(x=aug.flow(X_train, y_train, batch_size=30), validation_data=(X_test, y_test), steps_per_epoch=len(X_train) / 30, epochs=20)"
      ],
      "metadata": {
        "colab": {
          "base_uri": "https://localhost:8080/"
        },
        "id": "L7ktX2aYkUPI",
        "outputId": "97e615f0-edab-4013-a2a0-cd921ca7fec4"
      },
      "execution_count": 48,
      "outputs": [
        {
          "output_type": "stream",
          "name": "stdout",
          "text": [
            "Epoch 1/20\n",
            "1750/1750 [==============================] - 131s 75ms/step - loss: 0.8599 - accuracy: 0.7322 - val_loss: 0.1102 - val_accuracy: 0.9683\n",
            "Epoch 2/20\n",
            "1750/1750 [==============================] - 130s 74ms/step - loss: 0.3834 - accuracy: 0.8853 - val_loss: 0.0809 - val_accuracy: 0.9772\n",
            "Epoch 3/20\n",
            "1750/1750 [==============================] - 129s 74ms/step - loss: 0.3058 - accuracy: 0.9084 - val_loss: 0.0967 - val_accuracy: 0.9741\n",
            "Epoch 4/20\n",
            "1750/1750 [==============================] - 129s 74ms/step - loss: 0.2681 - accuracy: 0.9221 - val_loss: 0.1026 - val_accuracy: 0.9719\n",
            "Epoch 5/20\n",
            "1750/1750 [==============================] - 128s 73ms/step - loss: 0.2434 - accuracy: 0.9284 - val_loss: 0.0838 - val_accuracy: 0.9763\n",
            "Epoch 6/20\n",
            "1750/1750 [==============================] - 128s 73ms/step - loss: 0.2308 - accuracy: 0.9336 - val_loss: 0.0789 - val_accuracy: 0.9778\n",
            "Epoch 7/20\n",
            "1750/1750 [==============================] - 129s 74ms/step - loss: 0.2104 - accuracy: 0.9394 - val_loss: 0.0885 - val_accuracy: 0.9764\n",
            "Epoch 8/20\n",
            "1750/1750 [==============================] - 130s 74ms/step - loss: 0.2006 - accuracy: 0.9429 - val_loss: 0.0776 - val_accuracy: 0.9786\n",
            "Epoch 9/20\n",
            "1750/1750 [==============================] - 129s 73ms/step - loss: 0.2013 - accuracy: 0.9434 - val_loss: 0.0770 - val_accuracy: 0.9783\n",
            "Epoch 10/20\n",
            "1750/1750 [==============================] - 129s 74ms/step - loss: 0.1918 - accuracy: 0.9438 - val_loss: 0.0729 - val_accuracy: 0.9791\n",
            "Epoch 11/20\n",
            "1750/1750 [==============================] - 129s 73ms/step - loss: 0.1822 - accuracy: 0.9471 - val_loss: 0.0691 - val_accuracy: 0.9815\n",
            "Epoch 12/20\n",
            "1750/1750 [==============================] - 130s 74ms/step - loss: 0.1837 - accuracy: 0.9482 - val_loss: 0.0718 - val_accuracy: 0.9792\n",
            "Epoch 13/20\n",
            "1750/1750 [==============================] - 129s 74ms/step - loss: 0.1740 - accuracy: 0.9509 - val_loss: 0.0794 - val_accuracy: 0.9797\n",
            "Epoch 14/20\n",
            "1750/1750 [==============================] - 130s 74ms/step - loss: 0.1669 - accuracy: 0.9523 - val_loss: 0.0828 - val_accuracy: 0.9791\n",
            "Epoch 15/20\n",
            "1750/1750 [==============================] - 129s 74ms/step - loss: 0.1645 - accuracy: 0.9538 - val_loss: 0.0665 - val_accuracy: 0.9809\n",
            "Epoch 16/20\n",
            "1750/1750 [==============================] - 129s 74ms/step - loss: 0.1627 - accuracy: 0.9549 - val_loss: 0.0699 - val_accuracy: 0.9814\n",
            "Epoch 17/20\n",
            "1750/1750 [==============================] - 129s 74ms/step - loss: 0.1592 - accuracy: 0.9551 - val_loss: 0.0803 - val_accuracy: 0.9807\n",
            "Epoch 18/20\n",
            "1750/1750 [==============================] - 135s 77ms/step - loss: 0.1563 - accuracy: 0.9568 - val_loss: 0.0640 - val_accuracy: 0.9819\n",
            "Epoch 19/20\n",
            "1750/1750 [==============================] - 132s 75ms/step - loss: 0.1553 - accuracy: 0.9562 - val_loss: 0.0731 - val_accuracy: 0.9798\n",
            "Epoch 20/20\n",
            "1750/1750 [==============================] - 137s 78ms/step - loss: 0.1471 - accuracy: 0.9580 - val_loss: 0.0705 - val_accuracy: 0.9821\n"
          ]
        }
      ]
    },
    {
      "cell_type": "code",
      "source": [
        "plt.plot(H3.history['accuracy'])\n",
        "plt.plot(H3.history['val_accuracy'])"
      ],
      "metadata": {
        "colab": {
          "base_uri": "https://localhost:8080/",
          "height": 282
        },
        "id": "aW9sDcaZwuyy",
        "outputId": "da7b886a-8f4e-4be5-c685-d17634b9666d"
      },
      "execution_count": 49,
      "outputs": [
        {
          "output_type": "execute_result",
          "data": {
            "text/plain": [
              "[<matplotlib.lines.Line2D at 0x7f1163c4f310>]"
            ]
          },
          "metadata": {},
          "execution_count": 49
        },
        {
          "output_type": "display_data",
          "data": {
            "text/plain": [
              "<Figure size 432x288 with 1 Axes>"
            ],
            "image/png": "[encoded data removed]"
          },
          "metadata": {
            "needs_background": "light"
          }
        }
      ]
    }
  ],
  "metadata": {
    "colab": {
      "collapsed_sections": [],
      "provenance": [],
      "authorship_tag": "ABX9TyPVresSl62Mkb0bnsXiQn3D",
      "include_colab_link": true
    },
    "kernelspec": {
      "display_name": "Python 3",
      "name": "python3"
    },
    "language_info": {
      "name": "python"
    }
  },
  "nbformat": 4,
  "nbformat_minor": 0
}